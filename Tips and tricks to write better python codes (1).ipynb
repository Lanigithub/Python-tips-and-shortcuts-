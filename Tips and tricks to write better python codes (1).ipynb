{
 "cells": [
  {
   "cell_type": "markdown",
   "metadata": {},
   "source": [
    "## Tips and tricks to write better python codes\n",
    "(references: https://youtu.be/C-gEQdGVXbk"
   ]
  },
  {
   "cell_type": "markdown",
   "metadata": {},
   "source": [
    "1. ternary operator : [statement_on_True] if [condition] else [statement_on_false] "
   ]
  },
  {
   "cell_type": "code",
   "execution_count": null,
   "metadata": {},
   "outputs": [],
   "source": [
    "# testing a condition in a single line replacing the multiline if-else making the code compact"
   ]
  },
  {
   "cell_type": "code",
   "execution_count": 1,
   "metadata": {},
   "outputs": [
    {
     "name": "stdout",
     "output_type": "stream",
     "text": [
      "7 is greater\n"
     ]
    }
   ],
   "source": [
    "a,b = 6,7\n",
    "print(a, \" is greater\") if (a>b) else print (b, \"is greater\")"
   ]
  },
  {
   "cell_type": "code",
   "execution_count": 3,
   "metadata": {},
   "outputs": [
    {
     "name": "stdout",
     "output_type": "stream",
     "text": [
      "1\n"
     ]
    }
   ],
   "source": [
    "condition = True\n",
    "x=1 if condition else 0\n",
    "print(x)"
   ]
  },
  {
   "cell_type": "code",
   "execution_count": 4,
   "metadata": {},
   "outputs": [
    {
     "name": "stdout",
     "output_type": "stream",
     "text": [
      "-1\n"
     ]
    }
   ],
   "source": [
    "# Python program to demonstrate nested ternary operator\n",
    "a, b = -1, -1\n",
    "  \n",
    "print (a  if a == b else \"a is greater than b\"\n",
    "        if a > b else \"b is greater than a\")"
   ]
  },
  {
   "cell_type": "code",
   "execution_count": null,
   "metadata": {},
   "outputs": [],
   "source": []
  },
  {
   "cell_type": "markdown",
   "metadata": {},
   "source": [
    "2. f-String"
   ]
  },
  {
   "cell_type": "code",
   "execution_count": 5,
   "metadata": {},
   "outputs": [
    {
     "data": {
      "text/plain": [
       "'Hello, Jenny, you are 15'"
      ]
     },
     "execution_count": 5,
     "metadata": {},
     "output_type": "execute_result"
    }
   ],
   "source": [
    "name= \"Jenny\"\n",
    "age= 15\n",
    "\n",
    "f\"Hello, {name}, you are {age}\" "
   ]
  },
  {
   "cell_type": "code",
   "execution_count": 10,
   "metadata": {},
   "outputs": [
    {
     "data": {
      "text/plain": [
       "' Hello, Jenny'"
      ]
     },
     "execution_count": 10,
     "metadata": {},
     "output_type": "execute_result"
    }
   ],
   "source": [
    "F\" Hello, {name}\""
   ]
  },
  {
   "cell_type": "code",
   "execution_count": 12,
   "metadata": {},
   "outputs": [
    {
     "data": {
      "text/plain": [
       "'-4'"
      ]
     },
     "execution_count": 12,
     "metadata": {},
     "output_type": "execute_result"
    }
   ],
   "source": [
    "f\"{2-6}\""
   ]
  },
  {
   "cell_type": "markdown",
   "metadata": {},
   "source": [
    "2b. String format  str.format()"
   ]
  },
  {
   "cell_type": "code",
   "execution_count": 14,
   "metadata": {},
   "outputs": [
    {
     "data": {
      "text/plain": [
       "'hello, Jenny, you are 15.'"
      ]
     },
     "execution_count": 14,
     "metadata": {},
     "output_type": "execute_result"
    }
   ],
   "source": [
    "\"hello, {}, you are {}.\".format(name,age)"
   ]
  },
  {
   "cell_type": "code",
   "execution_count": null,
   "metadata": {},
   "outputs": [],
   "source": []
  },
  {
   "cell_type": "markdown",
   "metadata": {},
   "source": [
    "3. Underscores in Numeric Literals + f-string"
   ]
  },
  {
   "cell_type": "code",
   "execution_count": 15,
   "metadata": {},
   "outputs": [
    {
     "name": "stdout",
     "output_type": "stream",
     "text": [
      "1215000000\n"
     ]
    }
   ],
   "source": [
    "# when you deal with big number you caould use underscore to separate the zeros:\n",
    "num1 = 1_200_000_000   # can't use comma to separate the zesos like 100,000,000 \n",
    "num2 =15_000_000        # now its easier to read the number\n",
    "\n",
    "total= num1 + num2\n",
    "#print(total)"
   ]
  },
  {
   "cell_type": "code",
   "execution_count": 17,
   "metadata": {},
   "outputs": [
    {
     "name": "stdout",
     "output_type": "stream",
     "text": [
      "1,215,000,000\n"
     ]
    }
   ],
   "source": [
    "# Now you want to read the result easier you could do as follows:\n",
    "print(f'{total:,}')   # f-string and separate it by ,"
   ]
  },
  {
   "cell_type": "code",
   "execution_count": 31,
   "metadata": {},
   "outputs": [
    {
     "name": "stdout",
     "output_type": "stream",
     "text": [
      "12,123,000\n"
     ]
    }
   ],
   "source": [
    "#  define a function to add tow numbers\n",
    "def addnumbers(n1, n2):   \n",
    "    total = n1+n2\n",
    "    print(f'{total:,}')  # using the f-string to get the output and separate zeros with ,\n",
    "    \n",
    "addnumbers(123_000, 12_000_000)   # call the function with two big numbers using underscores "
   ]
  },
  {
   "cell_type": "code",
   "execution_count": null,
   "metadata": {},
   "outputs": [],
   "source": []
  },
  {
   "cell_type": "markdown",
   "metadata": {},
   "source": [
    "4. Lambda functions: lambda arguments : expression\n",
    "\n",
    "A lambda function is a small anonymous function(function without name).\n",
    "\n",
    "A lambda function can take any number of arguments, but can only have one expression.\n",
    "No need to define a function "
   ]
  },
  {
   "cell_type": "code",
   "execution_count": 42,
   "metadata": {},
   "outputs": [
    {
     "name": "stdout",
     "output_type": "stream",
     "text": [
      "total is: 25\n"
     ]
    }
   ],
   "source": [
    "x=lambda a : a**2  #assign lambda function to x with argument a and expression a^2\n",
    "print(\"total is: \" +str(x(5)) )   # need to cast x(5)to a string when concatenate with another string\n"
   ]
  },
  {
   "cell_type": "code",
   "execution_count": 47,
   "metadata": {},
   "outputs": [
    {
     "name": "stdout",
     "output_type": "stream",
     "text": [
      "<function <lambda> at 0x00000128DBF1C8C8>\n"
     ]
    }
   ],
   "source": [
    "print(lambda a=5: a**2)   # error message invalid syntax lambda only takes number as parameter"
   ]
  },
  {
   "cell_type": "code",
   "execution_count": null,
   "metadata": {},
   "outputs": [],
   "source": []
  },
  {
   "cell_type": "markdown",
   "metadata": {},
   "source": [
    "5. lambda wrapper function: use lambda function as argument for another lambda function"
   ]
  },
  {
   "cell_type": "code",
   "execution_count": 48,
   "metadata": {},
   "outputs": [
    {
     "name": "stdout",
     "output_type": "stream",
     "text": [
      "square of 2 is :4\n",
      "\n",
      "The cube of 4 is 64\n"
     ]
    }
   ],
   "source": [
    "# Defining lambda function\n",
    "square = lambda x:x * x\n",
    "  \n",
    "# Defining lambda function\n",
    "# and passing function as an argument\n",
    "cube = lambda func:func**3     # func could be any function as argument\n",
    "  \n",
    "  \n",
    "print(\"square of 2 is :\"+str(square(2)))   # pass 2 as argument to the first lambda function\n",
    "print(\"\\nThe cube of \"+str(square(2))+\" is \" +str(cube(square(2))))"
   ]
  },
  {
   "cell_type": "code",
   "execution_count": 49,
   "metadata": {},
   "outputs": [
    {
     "name": "stdout",
     "output_type": "stream",
     "text": [
      "16\n"
     ]
    }
   ],
   "source": [
    "# Or we can define a function for lambda function\n",
    "def myfunction (n):\n",
    "    x=lambda a:a*n\n",
    "    mydoubler = myfunction(2)   # pass n=2 to myfunction so now x= lambda a:a*2\n",
    "    \n",
    "print(x(4))  # call the x function with argument a=4"
   ]
  },
  {
   "cell_type": "code",
   "execution_count": null,
   "metadata": {},
   "outputs": [],
   "source": []
  },
  {
   "cell_type": "markdown",
   "metadata": {},
   "source": [
    "6. Context manager: instead of reading resources ( logs, database and other files) and close it manually you can use context manager to handle it"
   ]
  },
  {
   "cell_type": "code",
   "execution_count": 55,
   "metadata": {},
   "outputs": [
    {
     "name": "stdout",
     "output_type": "stream",
     "text": [
      "3\n",
      "['I', 'LOVE', 'YOU']\n"
     ]
    }
   ],
   "source": [
    "with open('test.txt', 'r') as f: \n",
    "    file_contents =f.read()\n",
    "    \n",
    "words = file_contents.split(' ')\n",
    "word_count = len(words)\n",
    "print(word_count)\n",
    "print(words)"
   ]
  },
  {
   "cell_type": "code",
   "execution_count": null,
   "metadata": {},
   "outputs": [],
   "source": []
  },
  {
   "cell_type": "markdown",
   "metadata": {},
   "source": [
    "7. Enumerate function:return the index  and the value  for the list that we are looping over:"
   ]
  },
  {
   "cell_type": "code",
   "execution_count": 56,
   "metadata": {},
   "outputs": [
    {
     "name": "stdout",
     "output_type": "stream",
     "text": [
      "1 Jenny\n",
      "2 Lani\n",
      "3 Kelly\n",
      "4 Lily\n"
     ]
    }
   ],
   "source": [
    "names= ['Jenny','Lani', 'Kelly','Lily']\n",
    "for index, name in enumerate( names, start=1):   # default start =0\n",
    "    print(index, name)\n"
   ]
  },
  {
   "cell_type": "code",
   "execution_count": 59,
   "metadata": {},
   "outputs": [
    {
     "name": "stdout",
     "output_type": "stream",
     "text": [
      "Jenny is  12.\n",
      "Lani is  24.\n",
      "Kelly is  35.\n",
      "Lily is  28.\n"
     ]
    }
   ],
   "source": [
    "# Loop over two lists at the same time with the same index:\n",
    "names= ['Jenny','Lani', 'Kelly','Lily']\n",
    "ages= [12,24,35,28]\n",
    "for index, name in enumerate(names):     # unpack names list\n",
    "    age = ages[index]           # unpack the 2nd list with the same index from the first list\n",
    "    print(f'{name} is  {age}.' )   # print out index and names of the two lists"
   ]
  },
  {
   "cell_type": "code",
   "execution_count": null,
   "metadata": {},
   "outputs": [],
   "source": []
  },
  {
   "cell_type": "markdown",
   "metadata": {},
   "source": [
    "8. Zip function: https://www.w3schools.com/python/ref_func_zip.asp\n",
    "\n",
    "The zip() function returns a zip object, which is an iterator of tuples where the first item in each passed iterator is paired together, and then the second item in each passed iterator are paired together etc.\n",
    "we could zip up  the above codes as follows:"
   ]
  },
  {
   "cell_type": "code",
   "execution_count": 60,
   "metadata": {},
   "outputs": [
    {
     "name": "stdout",
     "output_type": "stream",
     "text": [
      "Jenny is  12.\n",
      "Lani is  24.\n",
      "Kelly is  35.\n",
      "Lily is  28.\n"
     ]
    }
   ],
   "source": [
    "names= ['Jenny','Lani', 'Kelly','Lily']\n",
    "ages= [12,24,35,28]\n",
    "\n",
    "for name, age in zip(names, ages):   #unpack the values from the lists zip function\n",
    "    print(f'{name} is  {age}.' )\n",
    "    \n",
    "# It's more intuitive and easy to read"
   ]
  },
  {
   "cell_type": "code",
   "execution_count": 63,
   "metadata": {},
   "outputs": [
    {
     "name": "stdout",
     "output_type": "stream",
     "text": [
      "Jenny is  12 and lives at DC.\n",
      "Lani is  24 and lives at SF.\n",
      "Kelly is  35 and lives at LA.\n",
      "Lily is  28 and lives at  SD.\n"
     ]
    }
   ],
   "source": [
    "addresses =[\"DC\", 'SF','LA',' SD', 'San Jose']\n",
    "\n",
    "for name, age, address in zip(names, ages,addresses):   #unpack the values from the lists zip function\n",
    "    print(f'{name} is  {age} and lives at {address}.' )\n",
    "    \n",
    "# If one tuple contains more items, these items are ignored"
   ]
  },
  {
   "cell_type": "code",
   "execution_count": 64,
   "metadata": {},
   "outputs": [
    {
     "name": "stdout",
     "output_type": "stream",
     "text": [
      "('Jenny', 12, 'DC')\n",
      "('Lani', 24, 'SF')\n",
      "('Kelly', 35, 'LA')\n",
      "('Lily', 28, ' SD')\n"
     ]
    }
   ],
   "source": [
    "# Or just make it even more simple with the folowing unpacking and return with tuples \n",
    "\n",
    "for value in zip(names, ages,addresses):  \n",
    "    print(value)"
   ]
  },
  {
   "cell_type": "code",
   "execution_count": null,
   "metadata": {},
   "outputs": [],
   "source": []
  },
  {
   "cell_type": "markdown",
   "metadata": {},
   "source": [
    "9. unpacking tuples (use asterisk and underscore)"
   ]
  },
  {
   "cell_type": "code",
   "execution_count": 66,
   "metadata": {},
   "outputs": [
    {
     "name": "stdout",
     "output_type": "stream",
     "text": [
      "-1\n",
      "3\n"
     ]
    }
   ],
   "source": [
    "# unpack a tuple with two varaibles:\n",
    "\n",
    "a,  b =(-1, 3)\n",
    "\n",
    "print(a)\n",
    "print(b)"
   ]
  },
  {
   "cell_type": "code",
   "execution_count": 68,
   "metadata": {},
   "outputs": [
    {
     "name": "stdout",
     "output_type": "stream",
     "text": [
      "2\n"
     ]
    }
   ],
   "source": [
    "# Now what if we only wants to use one varaible , we could use _to represent/skip the other value:\n",
    "m, _ = (2,4)\n",
    "\n",
    "print(m)"
   ]
  },
  {
   "cell_type": "code",
   "execution_count": 72,
   "metadata": {},
   "outputs": [
    {
     "name": "stdout",
     "output_type": "stream",
     "text": [
      "4\n",
      "5\n",
      "[6, 7, 8]\n"
     ]
    }
   ],
   "source": [
    "# If we have more values in the tuple than the variables we want to unpack, we can use *N3 to represent the rest of the values\n",
    "N1, N2, *N3 = (4, 5, 6, 7, 8)\n",
    "\n",
    "print (N1)\n",
    "print(N2)\n",
    "print(N3)"
   ]
  },
  {
   "cell_type": "code",
   "execution_count": 73,
   "metadata": {},
   "outputs": [
    {
     "name": "stdout",
     "output_type": "stream",
     "text": [
      "4\n",
      "5\n"
     ]
    }
   ],
   "source": [
    "# If we want to ignore the rest of the values we could use *_\n",
    "N1, N2, *_ = (4, 5, 6, 7, 8)\n",
    "\n",
    "print(N1)\n",
    "print(N2)"
   ]
  },
  {
   "cell_type": "code",
   "execution_count": 74,
   "metadata": {},
   "outputs": [
    {
     "name": "stdout",
     "output_type": "stream",
     "text": [
      "4\n",
      "5\n",
      "10\n"
     ]
    }
   ],
   "source": [
    "# Another example, after the *N3/*_, the variable will always represents the last value in the tuple:\n",
    "N1, N2, *_ , N4 = (4, 5, 6, 7, 8, 9, 10)\n",
    "\n",
    "print(N1)\n",
    "print(N2)\n",
    "print(N4)\n"
   ]
  },
  {
   "cell_type": "code",
   "execution_count": null,
   "metadata": {},
   "outputs": [],
   "source": []
  }
 ],
 "metadata": {
  "kernelspec": {
   "display_name": "Python 3",
   "language": "python",
   "name": "python3"
  },
  "language_info": {
   "codemirror_mode": {
    "name": "ipython",
    "version": 3
   },
   "file_extension": ".py",
   "mimetype": "text/x-python",
   "name": "python",
   "nbconvert_exporter": "python",
   "pygments_lexer": "ipython3",
   "version": "3.7.1"
  }
 },
 "nbformat": 4,
 "nbformat_minor": 2
}
