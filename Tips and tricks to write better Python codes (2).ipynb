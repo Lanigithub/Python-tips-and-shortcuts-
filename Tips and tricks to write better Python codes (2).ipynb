{
 "cells": [
  {
   "cell_type": "markdown",
   "metadata": {},
   "source": [
    "10. Getting and setting attributes to object  (setattr, getattr );\n",
    "\n",
    "Syntax : setattr(obj, var, val)  ( https://www.geeksforgeeks.org/python-setattr-method/)\n",
    "\n",
    "Syntax : getattr(obj, key, def)   (https://www.geeksforgeeks.org/python-getattr-method/?ref=lbp)"
   ]
  },
  {
   "cell_type": "code",
   "execution_count": 1,
   "metadata": {},
   "outputs": [
    {
     "name": "stdout",
     "output_type": "stream",
     "text": [
      "Jenny\n",
      "Jackson\n"
     ]
    }
   ],
   "source": [
    "# Start with an empty class\n",
    "class Person():\n",
    "    pass\n",
    "\n",
    "# Instance of the class which doesnt have any attributes or methods:\n",
    "person= Person()\n",
    "\n",
    "# Now we can add dynamic attributes, values or methods to this object using dot notation:\n",
    "person.first = \"Jenny\"\n",
    "person.last = \"Jackson\"\n",
    "\n",
    "print(person.first)\n",
    "print(person.last)\n"
   ]
  },
  {
   "cell_type": "code",
   "execution_count": 3,
   "metadata": {},
   "outputs": [
    {
     "name": "stdout",
     "output_type": "stream",
     "text": [
      "Zoe\n"
     ]
    }
   ],
   "source": [
    "# Now let's use setattr and getattr to set and get the values for the objects:\n",
    "\n",
    "# declare two variables:\n",
    "first_key = 'first'\n",
    "first_val= 'Zoe'\n",
    "\n",
    "# setting attribute for the object person:  \n",
    "setattr(person, first_key, first_val )\n",
    "\n",
    "# getting the values of the atttribute and assign it to a varaible\n",
    "Var =  getattr(person, first_key)\n",
    "\n",
    "# output\n",
    "print(Var)"
   ]
  },
  {
   "cell_type": "code",
   "execution_count": 8,
   "metadata": {},
   "outputs": [
    {
     "name": "stdout",
     "output_type": "stream",
     "text": [
      "Henry\n",
      "Lee\n"
     ]
    }
   ],
   "source": [
    "# Another example:\n",
    "# If we have a dictionay with key and value and we want to set it as the attribute of the object\\\n",
    "# person and get the value of the attribute key:\n",
    "\n",
    "person_info= {'first_name': 'Henry', 'last_name':'Lee'}\n",
    "\n",
    "# loop through to setting the value( attr) for the key in the dictionary with dictionay.items()\n",
    "\n",
    "for key, value in person_info.items():\n",
    "    setattr(person, key, value)\n",
    "\n",
    "    # now print out the value \n",
    "print(person.first_name )\n",
    "        \n",
    "print( person.last_name)\n",
    "\n"
   ]
  },
  {
   "cell_type": "code",
   "execution_count": 11,
   "metadata": {},
   "outputs": [
    {
     "name": "stdout",
     "output_type": "stream",
     "text": [
      "Henry\n",
      "Lee\n"
     ]
    }
   ],
   "source": [
    "# you could loop through the key in dictionay.keys() to get the value(attr) for each key:\n",
    "\n",
    "for key in person_info.keys():\n",
    "    print(getattr(person,key)) # with the value assigned or you will have to set a default value \n",
    "    "
   ]
  },
  {
   "cell_type": "markdown",
   "metadata": {},
   "source": [
    "#Example : getattr() when named attribute is not found:"
   ]
  },
  {
   "cell_type": "code",
   "execution_count": 12,
   "metadata": {},
   "outputs": [
    {
     "ename": "AttributeError",
     "evalue": "'GfG' object has no attribute 'gender'",
     "output_type": "error",
     "traceback": [
      "\u001b[1;31m---------------------------------------------------------------------------\u001b[0m",
      "\u001b[1;31mAttributeError\u001b[0m                            Traceback (most recent call last)",
      "\u001b[1;32m<ipython-input-12-859b2ae17e47>\u001b[0m in \u001b[0;36m<module>\u001b[1;34m\u001b[0m\n\u001b[0;32m     12\u001b[0m \u001b[1;33m\u001b[0m\u001b[0m\n\u001b[0;32m     13\u001b[0m \u001b[1;31m# use of getattr without default\u001b[0m\u001b[1;33m\u001b[0m\u001b[1;33m\u001b[0m\u001b[1;33m\u001b[0m\u001b[0m\n\u001b[1;32m---> 14\u001b[1;33m \u001b[0mprint\u001b[0m\u001b[1;33m(\u001b[0m\u001b[1;34m\"Gender is \"\u001b[0m \u001b[1;33m+\u001b[0m \u001b[0mgetattr\u001b[0m\u001b[1;33m(\u001b[0m\u001b[0mobj\u001b[0m\u001b[1;33m,\u001b[0m \u001b[1;34m'gender'\u001b[0m\u001b[1;33m)\u001b[0m\u001b[1;33m)\u001b[0m\u001b[1;33m\u001b[0m\u001b[1;33m\u001b[0m\u001b[0m\n\u001b[0m",
      "\u001b[1;31mAttributeError\u001b[0m: 'GfG' object has no attribute 'gender'"
     ]
    }
   ],
   "source": [
    "# Python code to demonstrate\n",
    "# working of getattr()\n",
    " \n",
    "# declaring class\n",
    "class GfG:\n",
    "    name = \"GeeksforGeeks\"\n",
    "    age = 24\n",
    " \n",
    " \n",
    "# initializing object\n",
    "obj = GfG()\n",
    " \n",
    "# use of getattr without default\n",
    "print(\"Gender is \" + getattr(obj, 'gender'))"
   ]
  },
  {
   "cell_type": "code",
   "execution_count": 14,
   "metadata": {},
   "outputs": [
    {
     "name": "stdout",
     "output_type": "stream",
     "text": [
      "Gender is unknown\n"
     ]
    }
   ],
   "source": [
    "# add a default value for the variable 'gender'\n",
    "\n",
    "print(\"Gender is \" + getattr(obj, 'gender', 'unknown'))"
   ]
  },
  {
   "cell_type": "code",
   "execution_count": null,
   "metadata": {},
   "outputs": [],
   "source": []
  },
  {
   "cell_type": "markdown",
   "metadata": {},
   "source": [
    "11. getpass instead input (read from keyboard)"
   ]
  },
  {
   "cell_type": "code",
   "execution_count": 1,
   "metadata": {},
   "outputs": [
    {
     "name": "stdout",
     "output_type": "stream",
     "text": [
      "Username: love\n",
      "Password: love\n",
      "Logging In..\n"
     ]
    }
   ],
   "source": [
    "# reading private or secret info like password but dont;t want to show on the screen \n",
    "# when you are inputing:\n",
    "\n",
    "useername = input('Enter Username: ')\n",
    "password =  input('Enter Password: ')\n",
    "print('Logging In..')\n",
    "\n",
    "\n"
   ]
  },
  {
   "cell_type": "code",
   "execution_count": 3,
   "metadata": {},
   "outputs": [
    {
     "name": "stdout",
     "output_type": "stream",
     "text": [
      "Username: Ann\n",
      "Password: ········\n",
      "Logging in...\n",
      "Cool!\n"
     ]
    }
   ],
   "source": [
    "# use a bultin function from python to achieve this goal with getpass from a module getpass:\n",
    "\n",
    "from getpass import getpass\n",
    "\n",
    "# use getpass instead of input to hide the password:\n",
    "usename = input( 'Username: ')\n",
    "password = getpass('Password: ')\n",
    "\n",
    "print('Logging in...')\n",
    "print('Cool!')\n"
   ]
  },
  {
   "cell_type": "code",
   "execution_count": null,
   "metadata": {},
   "outputs": [],
   "source": []
  },
  {
   "cell_type": "markdown",
   "metadata": {},
   "source": [
    "12. Built-in functions (help, dir etc)"
   ]
  },
  {
   "cell_type": "code",
   "execution_count": 8,
   "metadata": {},
   "outputs": [
    {
     "name": "stdout",
     "output_type": "stream",
     "text": [
      "Help on method getpass in module ipykernel.kernelbase:\n",
      "\n",
      "getpass(prompt='', stream=None) method of ipykernel.ipkernel.IPythonKernel instance\n",
      "    Forward getpass to frontends\n",
      "    \n",
      "    Raises\n",
      "    ------\n",
      "    StdinNotImplentedError if active frontend doesn't support stdin.\n",
      "\n"
     ]
    }
   ],
   "source": [
    "help(getpass)\n"
   ]
  },
  {
   "cell_type": "code",
   "execution_count": 5,
   "metadata": {},
   "outputs": [
    {
     "name": "stdout",
     "output_type": "stream",
     "text": [
      "Help on built-in function len in module builtins:\n",
      "\n",
      "len(obj, /)\n",
      "    Return the number of items in a container.\n",
      "\n"
     ]
    }
   ],
   "source": [
    "help(len)"
   ]
  },
  {
   "cell_type": "code",
   "execution_count": 17,
   "metadata": {},
   "outputs": [
    {
     "data": {
      "text/plain": [
       "['__add__',\n",
       " '__class__',\n",
       " '__delattr__',\n",
       " '__dir__',\n",
       " '__doc__',\n",
       " '__eq__',\n",
       " '__format__',\n",
       " '__ge__',\n",
       " '__getattribute__',\n",
       " '__gt__',\n",
       " '__hash__',\n",
       " '__init__',\n",
       " '__init_subclass__',\n",
       " '__le__',\n",
       " '__lt__',\n",
       " '__ne__',\n",
       " '__new__',\n",
       " '__radd__',\n",
       " '__reduce__',\n",
       " '__reduce_ex__',\n",
       " '__repr__',\n",
       " '__rsub__',\n",
       " '__setattr__',\n",
       " '__sizeof__',\n",
       " '__str__',\n",
       " '__sub__',\n",
       " '__subclasshook__',\n",
       " 'astimezone',\n",
       " 'combine',\n",
       " 'ctime',\n",
       " 'date',\n",
       " 'day',\n",
       " 'dst',\n",
       " 'fold',\n",
       " 'fromisoformat',\n",
       " 'fromordinal',\n",
       " 'fromtimestamp',\n",
       " 'hour',\n",
       " 'isocalendar',\n",
       " 'isoformat',\n",
       " 'isoweekday',\n",
       " 'max',\n",
       " 'microsecond',\n",
       " 'min',\n",
       " 'minute',\n",
       " 'month',\n",
       " 'now',\n",
       " 'replace',\n",
       " 'resolution',\n",
       " 'second',\n",
       " 'strftime',\n",
       " 'strptime',\n",
       " 'time',\n",
       " 'timestamp',\n",
       " 'timetuple',\n",
       " 'timetz',\n",
       " 'today',\n",
       " 'toordinal',\n",
       " 'tzinfo',\n",
       " 'tzname',\n",
       " 'utcfromtimestamp',\n",
       " 'utcnow',\n",
       " 'utcoffset',\n",
       " 'utctimetuple',\n",
       " 'weekday',\n",
       " 'year']"
      ]
     },
     "execution_count": 17,
     "metadata": {},
     "output_type": "execute_result"
    }
   ],
   "source": [
    "from datetime import datetime\n",
    "dir(datetime.datetime)"
   ]
  },
  {
   "cell_type": "code",
   "execution_count": 21,
   "metadata": {},
   "outputs": [
    {
     "data": {
      "text/plain": [
       "datetime.datetime(2022, 6, 11, 17, 11, 51, 381243)"
      ]
     },
     "execution_count": 21,
     "metadata": {},
     "output_type": "execute_result"
    }
   ],
   "source": [
    "\n",
    "datetime.datetime.now()"
   ]
  },
  {
   "cell_type": "code",
   "execution_count": 22,
   "metadata": {},
   "outputs": [
    {
     "data": {
      "text/plain": [
       "datetime.datetime(2022, 6, 11, 17, 12, 28, 196999)"
      ]
     },
     "execution_count": 22,
     "metadata": {},
     "output_type": "execute_result"
    }
   ],
   "source": [
    "datetime.datetime.today()"
   ]
  },
  {
   "cell_type": "code",
   "execution_count": 24,
   "metadata": {},
   "outputs": [
    {
     "data": {
      "text/plain": [
       "<attribute 'year' of 'datetime.date' objects>"
      ]
     },
     "execution_count": 24,
     "metadata": {},
     "output_type": "execute_result"
    }
   ],
   "source": [
    "datetime.datetime.year"
   ]
  },
  {
   "cell_type": "code",
   "execution_count": null,
   "metadata": {},
   "outputs": [],
   "source": []
  }
 ],
 "metadata": {
  "kernelspec": {
   "display_name": "Python 3",
   "language": "python",
   "name": "python3"
  },
  "language_info": {
   "codemirror_mode": {
    "name": "ipython",
    "version": 3
   },
   "file_extension": ".py",
   "mimetype": "text/x-python",
   "name": "python",
   "nbconvert_exporter": "python",
   "pygments_lexer": "ipython3",
   "version": "3.7.1"
  }
 },
 "nbformat": 4,
 "nbformat_minor": 2
}
